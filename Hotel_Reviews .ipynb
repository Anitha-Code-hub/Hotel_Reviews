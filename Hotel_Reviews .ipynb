{
 "cells": [
  {
   "cell_type": "code",
   "execution_count": 1,
   "id": "382987f7",
   "metadata": {},
   "outputs": [],
   "source": [
    "import pandas as pd\n",
    "import numpy as np\n",
    "import matplotlib.pyplot as plt\n",
    "import seaborn as sns\n",
    "from sklearn.model_selection import train_test_split\n",
    "from sklearn.feature_extraction.text import CountVectorizer, TfidfVectorizer\n",
    "from sklearn.pipeline import Pipeline\n",
    "from sklearn.naive_bayes import MultinomialNB\n",
    "from sklearn.metrics import classification_report, confusion_matrix\n",
    "from wordcloud import WordCloud"
   ]
  },
  {
   "cell_type": "code",
   "execution_count": 2,
   "id": "a8be3cc8",
   "metadata": {},
   "outputs": [],
   "source": [
    "file_path = \"C:\\\\Users\\\\Dell\\\\Downloads\\\\NLP PROJECT\\\\Hotel_Reviews.xlsx\"\n",
    "df = pd.read_excel(file_path)"
   ]
  },
  {
   "cell_type": "code",
   "execution_count": 3,
   "id": "eda038f9",
   "metadata": {},
   "outputs": [
    {
     "name": "stdout",
     "output_type": "stream",
     "text": [
      "                                              Review Feedback\n",
      "0  nice hotel expensive parking got good deal sta...      Pos\n",
      "1  ok nothing special charge diamond member hilto...      Neg\n",
      "2  nice rooms not 4* experience hotel monaco seat...      Pos\n",
      "3  unique, great stay, wonderful time hotel monac...      Pos\n",
      "4  great stay great stay, went seahawk game aweso...      Pos\n"
     ]
    }
   ],
   "source": [
    "print(df.head())"
   ]
  },
  {
   "cell_type": "code",
   "execution_count": 4,
   "id": "d67be906",
   "metadata": {},
   "outputs": [
    {
     "name": "stdout",
     "output_type": "stream",
     "text": [
      "\n",
      "Missing values in each column:\n",
      "Review      0\n",
      "Feedback    0\n",
      "dtype: int64\n"
     ]
    }
   ],
   "source": [
    "missing_values = df.isnull().sum()\n",
    "print(\"\\nMissing values in each column:\")\n",
    "print(missing_values)"
   ]
  },
  {
   "cell_type": "code",
   "execution_count": 5,
   "id": "09835092",
   "metadata": {},
   "outputs": [
    {
     "name": "stdout",
     "output_type": "stream",
     "text": [
      "Distribution of 'Feedback' column:\n",
      "Feedback\n",
      "Pos    17277\n",
      "Neg     3214\n",
      "Name: count, dtype: int64\n"
     ]
    }
   ],
   "source": [
    "print(\"Distribution of 'Feedback' column:\")\n",
    "print(df['Feedback'].value_counts())"
   ]
  },
  {
   "cell_type": "code",
   "execution_count": 64,
   "id": "84ee9ce3",
   "metadata": {},
   "outputs": [],
   "source": [
    "# The dataset is currently imbalanced. We need to balance "
   ]
  },
  {
   "cell_type": "markdown",
   "id": "ecb0885b",
   "metadata": {},
   "source": [
    "# Balancing the Dataset"
   ]
  },
  {
   "cell_type": "code",
   "execution_count": 6,
   "id": "e913b79c",
   "metadata": {},
   "outputs": [],
   "source": [
    "# Separate the classes\n",
    "df_pos = df[df['Feedback'] == 'Pos']\n",
    "df_neg = df[df['Feedback'] == 'Neg']\n"
   ]
  },
  {
   "cell_type": "code",
   "execution_count": 7,
   "id": "42916d64",
   "metadata": {},
   "outputs": [],
   "source": [
    "min_size = min(len(df_pos), len(df_neg))"
   ]
  },
  {
   "cell_type": "code",
   "execution_count": 8,
   "id": "3066d54d",
   "metadata": {},
   "outputs": [],
   "source": [
    "df_pos_balanced = df_pos.sample(min_size, random_state=42)\n",
    "df_neg_balanced = df_neg.sample(min_size, random_state=42)"
   ]
  },
  {
   "cell_type": "code",
   "execution_count": 9,
   "id": "806ad8c6",
   "metadata": {},
   "outputs": [],
   "source": [
    "df_balanced = pd.concat([df_pos_balanced, df_neg_balanced])"
   ]
  },
  {
   "cell_type": "code",
   "execution_count": 10,
   "id": "d13e23c2",
   "metadata": {},
   "outputs": [],
   "source": [
    "df_balanced = df_balanced.sample(frac=1, random_state=42).reset_index(drop=True)"
   ]
  },
  {
   "cell_type": "code",
   "execution_count": 11,
   "id": "b5394f69",
   "metadata": {},
   "outputs": [
    {
     "name": "stdout",
     "output_type": "stream",
     "text": [
      "\n",
      "Distribution of 'Feedback' column after balancing:\n",
      "Feedback\n",
      "Pos    3214\n",
      "Neg    3214\n",
      "Name: count, dtype: int64\n"
     ]
    }
   ],
   "source": [
    "print(\"\\nDistribution of 'Feedback' column after balancing:\")\n",
    "print(df_balanced['Feedback'].value_counts())"
   ]
  },
  {
   "cell_type": "code",
   "execution_count": 12,
   "id": "794f0a32",
   "metadata": {},
   "outputs": [
    {
     "data": {
      "image/png": "[encoded data removed]",
      "text/plain": [
       "<Figure size 800x600 with 1 Axes>"
      ]
     },
     "metadata": {},
     "output_type": "display_data"
    }
   ],
   "source": [
    "sns.set(style=\"whitegrid\")\n",
    "plt.figure(figsize=(8, 6))\n",
    "sns.countplot(x='Feedback', data=df_balanced, palette='viridis')\n",
    "plt.title('Distribution of Feedback (Balanced)')\n",
    "plt.xlabel('Feedback')\n",
    "plt.ylabel('Count')\n",
    "plt.show()"
   ]
  },
  {
   "cell_type": "markdown",
   "id": "6b68e58d",
   "metadata": {},
   "source": [
    "# Now the Data is balanced"
   ]
  },
  {
   "cell_type": "markdown",
   "id": "36caa87c",
   "metadata": {},
   "source": [
    "# Data Cleaning"
   ]
  },
  {
   "cell_type": "code",
   "execution_count": 13,
   "id": "39ca0034",
   "metadata": {},
   "outputs": [],
   "source": [
    "# We need to clean our text data to make it suitable for analysis.\n",
    "import re\n",
    "import nltk\n",
    "from nltk.corpus import stopwords\n",
    "from nltk.stem import WordNetLemmatizer"
   ]
  },
  {
   "cell_type": "code",
   "execution_count": 14,
   "id": "d5f2b291",
   "metadata": {},
   "outputs": [
    {
     "name": "stderr",
     "output_type": "stream",
     "text": [
      "[nltk_data] Downloading package stopwords to\n",
      "[nltk_data]     C:\\Users\\Dell\\AppData\\Roaming\\nltk_data...\n",
      "[nltk_data]   Package stopwords is already up-to-date!\n",
      "[nltk_data] Downloading package wordnet to\n",
      "[nltk_data]     C:\\Users\\Dell\\AppData\\Roaming\\nltk_data...\n",
      "[nltk_data]   Package wordnet is already up-to-date!\n"
     ]
    },
    {
     "data": {
      "text/plain": [
       "True"
      ]
     },
     "execution_count": 14,
     "metadata": {},
     "output_type": "execute_result"
    }
   ],
   "source": [
    "nltk.download('stopwords')\n",
    "nltk.download('wordnet')"
   ]
  },
  {
   "cell_type": "code",
   "execution_count": 15,
   "id": "7bd6bff0",
   "metadata": {},
   "outputs": [],
   "source": [
    "lemmatizer = WordNetLemmatizer()"
   ]
  },
  {
   "cell_type": "code",
   "execution_count": 16,
   "id": "2f11a6e4",
   "metadata": {},
   "outputs": [],
   "source": [
    "def clean_text(text):\n",
    "    # Convert text to lowercase\n",
    "    text = text.lower()\n",
    "    # Remove punctuation and special characters\n",
    "    text = re.sub(r'[^a-zA-Z\\s]', '', text)\n",
    "    # Remove stop words\n",
    "    stop_words = set(stopwords.words('english'))\n",
    "    text = ' '.join([word for word in text.split() if word not in stop_words])\n",
    "    # Perform lemmatization\n",
    "    text = ' '.join([lemmatizer.lemmatize(word) for word in text.split()])\n",
    "    return text\n"
   ]
  },
  {
   "cell_type": "code",
   "execution_count": 17,
   "id": "70253080",
   "metadata": {},
   "outputs": [],
   "source": [
    "df_balanced['Cleaned_Review'] = df_balanced['Review'].apply(clean_text)\n"
   ]
  },
  {
   "cell_type": "code",
   "execution_count": 18,
   "id": "75b7d161",
   "metadata": {},
   "outputs": [
    {
     "name": "stdout",
     "output_type": "stream",
     "text": [
      "First few rows of the cleaned dataset:\n",
      "                                              Review  \\\n",
      "0  recommended stayed early august reading review...   \n",
      "1  casablanca great, great location right times s...   \n",
      "2  fine came, good, hotel pretty period theme nic...   \n",
      "3  excellent value husband stayed nights late jan...   \n",
      "4  wo n't return just got week catalonia bavaro p...   \n",
      "\n",
      "                                      Cleaned_Review Feedback  \n",
      "0  recommended stayed early august reading review...      Pos  \n",
      "1  casablanca great great location right time squ...      Pos  \n",
      "2  fine came good hotel pretty period theme nicel...      Neg  \n",
      "3  excellent value husband stayed night late janu...      Pos  \n",
      "4  wo nt return got week catalonia bavaro punta c...      Neg  \n"
     ]
    }
   ],
   "source": [
    "print(\"First few rows of the cleaned dataset:\")\n",
    "print(df_balanced[['Review', 'Cleaned_Review', 'Feedback']].head())"
   ]
  },
  {
   "cell_type": "code",
   "execution_count": 19,
   "id": "5b5faca9",
   "metadata": {},
   "outputs": [],
   "source": [
    "df_balanced['Review_Length'] = df_balanced['Cleaned_Review'].apply(len)"
   ]
  },
  {
   "cell_type": "code",
   "execution_count": 20,
   "id": "0a82f54d",
   "metadata": {},
   "outputs": [
    {
     "name": "stderr",
     "output_type": "stream",
     "text": [
      "C:\\ProgramData\\anaconda3\\Lib\\site-packages\\seaborn\\_oldcore.py:1119: FutureWarning: use_inf_as_na option is deprecated and will be removed in a future version. Convert inf values to NaN before operating instead.\n",
      "  with pd.option_context('mode.use_inf_as_na', True):\n",
      "C:\\ProgramData\\anaconda3\\Lib\\site-packages\\seaborn\\_oldcore.py:1119: FutureWarning: use_inf_as_na option is deprecated and will be removed in a future version. Convert inf values to NaN before operating instead.\n",
      "  with pd.option_context('mode.use_inf_as_na', True):\n"
     ]
    },
    {
     "data": {
      "image/png": "[encoded data removed]",
      "text/plain": [
       "<Figure size 1200x600 with 1 Axes>"
      ]
     },
     "metadata": {},
     "output_type": "display_data"
    }
   ],
   "source": [
    "plt.figure(figsize=(12, 6))\n",
    "sns.histplot(df_balanced[df_balanced['Feedback'] == 'Pos']['Review_Length'], bins=50, color='green', label='Positive')\n",
    "sns.histplot(df_balanced[df_balanced['Feedback'] == 'Neg']['Review_Length'], bins=50, color='red', label='Negative')\n",
    "plt.title('Distribution of Review Lengths')\n",
    "plt.xlabel('Review Length')\n",
    "plt.ylabel('Frequency')\n",
    "plt.legend()\n",
    "plt.show()"
   ]
  },
  {
   "cell_type": "markdown",
   "id": "944c9399",
   "metadata": {},
   "source": [
    "# Text Analysis"
   ]
  },
  {
   "cell_type": "code",
   "execution_count": 21,
   "id": "cc76f10b",
   "metadata": {},
   "outputs": [],
   "source": [
    "from wordcloud import WordCloud"
   ]
  },
  {
   "cell_type": "code",
   "execution_count": 22,
   "id": "78ad5c0b",
   "metadata": {},
   "outputs": [],
   "source": [
    "positive_reviews = df_balanced[df_balanced['Feedback'] == 'Pos']['Cleaned_Review']\n",
    "negative_reviews = df_balanced[df_balanced['Feedback'] == 'Neg']['Cleaned_Review']\n"
   ]
  },
  {
   "cell_type": "code",
   "execution_count": 23,
   "id": "d17363af",
   "metadata": {},
   "outputs": [],
   "source": [
    "wordcloud_pos = WordCloud(width=800, height=400, background_color='white', colormap='Greens').generate(' '.join(positive_reviews))\n",
    "wordcloud_neg = WordCloud(width=800, height=400, background_color='white', colormap='Reds').generate(' '.join(negative_reviews))\n"
   ]
  },
  {
   "cell_type": "code",
   "execution_count": 28,
   "id": "38723d54",
   "metadata": {},
   "outputs": [
    {
     "data": {
      "text/plain": [
       "<Figure size 1600x800 with 0 Axes>"
      ]
     },
     "execution_count": 28,
     "metadata": {},
     "output_type": "execute_result"
    },
    {
     "data": {
      "text/plain": [
       "<Figure size 1600x800 with 0 Axes>"
      ]
     },
     "metadata": {},
     "output_type": "display_data"
    }
   ],
   "source": [
    "plt.figure(figsize=(16, 8))"
   ]
  },
  {
   "cell_type": "code",
   "execution_count": 32,
   "id": "38f492c6",
   "metadata": {},
   "outputs": [
    {
     "data": {
      "image/png": "[encoded data removed]",
      "text/plain": [
       "<Figure size 640x480 with 1 Axes>"
      ]
     },
     "metadata": {},
     "output_type": "display_data"
    }
   ],
   "source": [
    "plt.subplot(1, 2, 1)\n",
    "plt.imshow(wordcloud_pos, interpolation='bilinear')\n",
    "plt.title('Word Cloud for Positive Reviews')\n",
    "plt.axis('off')\n",
    "plt.show()"
   ]
  },
  {
   "cell_type": "code",
   "execution_count": 31,
   "id": "2950fc60",
   "metadata": {},
   "outputs": [
    {
     "data": {
      "image/png": "[encoded data removed]",
      "text/plain": [
       "<Figure size 640x480 with 1 Axes>"
      ]
     },
     "metadata": {},
     "output_type": "display_data"
    }
   ],
   "source": [
    "plt.subplot(1, 2, 2)\n",
    "plt.imshow(wordcloud_neg, interpolation='bilinear')\n",
    "plt.title('Word Cloud for Negative Reviews')\n",
    "plt.axis('off')\n",
    "\n",
    "plt.show()"
   ]
  },
  {
   "cell_type": "markdown",
   "id": "0c044c0c",
   "metadata": {},
   "source": [
    "# Data Splitting"
   ]
  },
  {
   "cell_type": "code",
   "execution_count": 33,
   "id": "71501f35",
   "metadata": {},
   "outputs": [],
   "source": [
    "X = df_balanced['Cleaned_Review']\n",
    "y = df_balanced['Feedback']\n"
   ]
  },
  {
   "cell_type": "code",
   "execution_count": 34,
   "id": "bb588e3a",
   "metadata": {},
   "outputs": [],
   "source": [
    "X_train, X_test, y_train, y_test = train_test_split(X, y, test_size=0.2, random_state=42, stratify=y)\n"
   ]
  },
  {
   "cell_type": "code",
   "execution_count": 35,
   "id": "7cb5a883",
   "metadata": {},
   "outputs": [
    {
     "name": "stdout",
     "output_type": "stream",
     "text": [
      "Shape of training set: (5142,)\n",
      "Shape of testing set: (1286,)\n"
     ]
    }
   ],
   "source": [
    "print(\"Shape of training set:\", X_train.shape)\n",
    "print(\"Shape of testing set:\", X_test.shape)"
   ]
  },
  {
   "cell_type": "markdown",
   "id": "1751535f",
   "metadata": {},
   "source": [
    "# Text Vectorization "
   ]
  },
  {
   "cell_type": "code",
   "execution_count": 36,
   "id": "e550fdb3",
   "metadata": {},
   "outputs": [],
   "source": [
    "# Converting text data into numeric format using Bag of Words.\n",
    "from sklearn.feature_extraction.text import CountVectorizer"
   ]
  },
  {
   "cell_type": "code",
   "execution_count": 37,
   "id": "40fa625e",
   "metadata": {},
   "outputs": [
    {
     "name": "stdout",
     "output_type": "stream",
     "text": [
      "Shape of X_train_bow: (5142, 31234)\n",
      "Shape of X_test_bow: (1286, 31234)\n"
     ]
    }
   ],
   "source": [
    "vectorizer_bow = CountVectorizer()\n",
    "X_train_bow = vectorizer_bow.fit_transform(X_train)\n",
    "X_test_bow = vectorizer_bow.transform(X_test)\n",
    "print(\"Shape of X_train_bow:\", X_train_bow.shape)\n",
    "print(\"Shape of X_test_bow:\", X_test_bow.shape)"
   ]
  },
  {
   "cell_type": "markdown",
   "id": "847311ed",
   "metadata": {},
   "source": [
    "# #Text Vectorization (TF-IDF)"
   ]
  },
  {
   "cell_type": "code",
   "execution_count": 38,
   "id": "c56ec482",
   "metadata": {},
   "outputs": [],
   "source": [
    "# Converting text data into numeric format using TF-IDF.\n",
    "from sklearn.feature_extraction.text import TfidfVectorizer"
   ]
  },
  {
   "cell_type": "code",
   "execution_count": 39,
   "id": "8a1189f9",
   "metadata": {},
   "outputs": [
    {
     "name": "stdout",
     "output_type": "stream",
     "text": [
      "Shape of X_train_tfidf: (5142, 31234)\n",
      "Shape of X_test_tfidf: (1286, 31234)\n"
     ]
    }
   ],
   "source": [
    "vectorizer_tfidf = TfidfVectorizer()\n",
    "X_train_tfidf = vectorizer_tfidf.fit_transform(X_train)\n",
    "X_test_tfidf = vectorizer_tfidf.transform(X_test)\n",
    "print(\"Shape of X_train_tfidf:\", X_train_tfidf.shape)\n",
    "print(\"Shape of X_test_tfidf:\", X_test_tfidf.shape)"
   ]
  },
  {
   "cell_type": "markdown",
   "id": "eddfbfc3",
   "metadata": {},
   "source": [
    "# Building and Evaluating the Model"
   ]
  },
  {
   "cell_type": "code",
   "execution_count": 40,
   "id": "79d20b12",
   "metadata": {},
   "outputs": [],
   "source": [
    "from sklearn.pipeline import Pipeline\n",
    "from sklearn.naive_bayes import MultinomialNB\n",
    "from sklearn.metrics import classification_report, confusion_matrix, accuracy_score"
   ]
  },
  {
   "cell_type": "code",
   "execution_count": 49,
   "id": "3cad0d26",
   "metadata": {},
   "outputs": [],
   "source": [
    "pipeline = Pipeline([\n",
    "    ('tfidf', TfidfVectorizer()),  # Use TF-IDF for vectorization\n",
    "    ('clf', MultinomialNB())  # Use Naive Bayes for classification\n",
    "])\n"
   ]
  },
  {
   "cell_type": "code",
   "execution_count": 50,
   "id": "8c4aeea9",
   "metadata": {},
   "outputs": [
    {
     "name": "stdout",
     "output_type": "stream",
     "text": [
      "Model training completed.\n"
     ]
    }
   ],
   "source": [
    "pipeline.fit(X_train, y_train)\n",
    "print(\"Model training completed.\")"
   ]
  },
  {
   "cell_type": "code",
   "execution_count": 51,
   "id": "7e430f25",
   "metadata": {},
   "outputs": [
    {
     "name": "stdout",
     "output_type": "stream",
     "text": [
      "Predictions completed.\n"
     ]
    }
   ],
   "source": [
    "y_pred = pipeline.predict(X_test)\n",
    "print(\"Predictions completed.\")\n"
   ]
  },
  {
   "cell_type": "code",
   "execution_count": 53,
   "id": "3cab62b6",
   "metadata": {},
   "outputs": [
    {
     "name": "stdout",
     "output_type": "stream",
     "text": [
      "Classification Report:\n",
      "              precision    recall  f1-score   support\n",
      "\n",
      "         Neg       0.87      0.88      0.88       643\n",
      "         Pos       0.88      0.87      0.87       643\n",
      "\n",
      "    accuracy                           0.88      1286\n",
      "   macro avg       0.88      0.88      0.88      1286\n",
      "weighted avg       0.88      0.88      0.88      1286\n",
      "\n"
     ]
    }
   ],
   "source": [
    "print(\"Classification Report:\")\n",
    "print(classification_report(y_test, y_pred))\n"
   ]
  },
  {
   "cell_type": "code",
   "execution_count": 54,
   "id": "c4eca33f",
   "metadata": {},
   "outputs": [
    {
     "name": "stdout",
     "output_type": "stream",
     "text": [
      "Confusion Matrix:\n",
      "[[569  74]\n",
      " [ 86 557]]\n"
     ]
    }
   ],
   "source": [
    "print(\"Confusion Matrix:\")\n",
    "print(confusion_matrix(y_test, y_pred))"
   ]
  },
  {
   "cell_type": "markdown",
   "id": "0efb8823",
   "metadata": {},
   "source": [
    "# Sentiment Analysis on Entire Dataset"
   ]
  },
  {
   "cell_type": "code",
   "execution_count": 55,
   "id": "938d989a",
   "metadata": {},
   "outputs": [],
   "source": [
    "df['Cleaned_Review'] = df['Review'].apply(clean_text)"
   ]
  },
  {
   "cell_type": "code",
   "execution_count": 56,
   "id": "b87b27b1",
   "metadata": {},
   "outputs": [],
   "source": [
    "predicted_sentiments = pipeline.predict(df['Cleaned_Review'])\n"
   ]
  },
  {
   "cell_type": "code",
   "execution_count": 57,
   "id": "dccc5f43",
   "metadata": {},
   "outputs": [],
   "source": [
    "df['Predicted_Sentiment'] = predicted_sentiments"
   ]
  },
  {
   "cell_type": "code",
   "execution_count": 58,
   "id": "3ffed581",
   "metadata": {},
   "outputs": [
    {
     "name": "stdout",
     "output_type": "stream",
     "text": [
      "                                              Review  \\\n",
      "0  nice hotel expensive parking got good deal sta...   \n",
      "1  ok nothing special charge diamond member hilto...   \n",
      "2  nice rooms not 4* experience hotel monaco seat...   \n",
      "3  unique, great stay, wonderful time hotel monac...   \n",
      "4  great stay great stay, went seahawk game aweso...   \n",
      "\n",
      "                                      Cleaned_Review Feedback  \\\n",
      "0  nice hotel expensive parking got good deal sta...      Pos   \n",
      "1  ok nothing special charge diamond member hilto...      Neg   \n",
      "2  nice room experience hotel monaco seattle good...      Pos   \n",
      "3  unique great stay wonderful time hotel monaco ...      Pos   \n",
      "4  great stay great stay went seahawk game awesom...      Pos   \n",
      "\n",
      "  Predicted_Sentiment  \n",
      "0                 Pos  \n",
      "1                 Neg  \n",
      "2                 Neg  \n",
      "3                 Pos  \n",
      "4                 Neg  \n"
     ]
    }
   ],
   "source": [
    "print(df[['Review', 'Cleaned_Review', 'Feedback', 'Predicted_Sentiment']].head())\n"
   ]
  },
  {
   "cell_type": "code",
   "execution_count": 59,
   "id": "7405e213",
   "metadata": {},
   "outputs": [],
   "source": [
    "df.to_excel(\"C:\\\\Users\\\\Dell\\\\Downloads\\\\Hotel_Reviews_With_Predictions.xlsx\", index=False)"
   ]
  },
  {
   "cell_type": "code",
   "execution_count": 60,
   "id": "d05adc91",
   "metadata": {},
   "outputs": [
    {
     "data": {
      "text/html": [
       "<div>\n",
       "<style scoped>\n",
       "    .dataframe tbody tr th:only-of-type {\n",
       "        vertical-align: middle;\n",
       "    }\n",
       "\n",
       "    .dataframe tbody tr th {\n",
       "        vertical-align: top;\n",
       "    }\n",
       "\n",
       "    .dataframe thead th {\n",
       "        text-align: right;\n",
       "    }\n",
       "</style>\n",
       "<table border=\"1\" class=\"dataframe\">\n",
       "  <thead>\n",
       "    <tr style=\"text-align: right;\">\n",
       "      <th></th>\n",
       "      <th>Review</th>\n",
       "      <th>Feedback</th>\n",
       "      <th>Cleaned_Review</th>\n",
       "      <th>Predicted_Sentiment</th>\n",
       "    </tr>\n",
       "  </thead>\n",
       "  <tbody>\n",
       "    <tr>\n",
       "      <th>0</th>\n",
       "      <td>nice hotel expensive parking got good deal sta...</td>\n",
       "      <td>Pos</td>\n",
       "      <td>nice hotel expensive parking got good deal sta...</td>\n",
       "      <td>Pos</td>\n",
       "    </tr>\n",
       "    <tr>\n",
       "      <th>1</th>\n",
       "      <td>ok nothing special charge diamond member hilto...</td>\n",
       "      <td>Neg</td>\n",
       "      <td>ok nothing special charge diamond member hilto...</td>\n",
       "      <td>Neg</td>\n",
       "    </tr>\n",
       "    <tr>\n",
       "      <th>2</th>\n",
       "      <td>nice rooms not 4* experience hotel monaco seat...</td>\n",
       "      <td>Pos</td>\n",
       "      <td>nice room experience hotel monaco seattle good...</td>\n",
       "      <td>Neg</td>\n",
       "    </tr>\n",
       "    <tr>\n",
       "      <th>3</th>\n",
       "      <td>unique, great stay, wonderful time hotel monac...</td>\n",
       "      <td>Pos</td>\n",
       "      <td>unique great stay wonderful time hotel monaco ...</td>\n",
       "      <td>Pos</td>\n",
       "    </tr>\n",
       "    <tr>\n",
       "      <th>4</th>\n",
       "      <td>great stay great stay, went seahawk game aweso...</td>\n",
       "      <td>Pos</td>\n",
       "      <td>great stay great stay went seahawk game awesom...</td>\n",
       "      <td>Neg</td>\n",
       "    </tr>\n",
       "    <tr>\n",
       "      <th>...</th>\n",
       "      <td>...</td>\n",
       "      <td>...</td>\n",
       "      <td>...</td>\n",
       "      <td>...</td>\n",
       "    </tr>\n",
       "    <tr>\n",
       "      <th>20486</th>\n",
       "      <td>best kept secret 3rd time staying charm, not 5...</td>\n",
       "      <td>Pos</td>\n",
       "      <td>best kept secret rd time staying charm star ca...</td>\n",
       "      <td>Pos</td>\n",
       "    </tr>\n",
       "    <tr>\n",
       "      <th>20487</th>\n",
       "      <td>great location price view hotel great quick pl...</td>\n",
       "      <td>Pos</td>\n",
       "      <td>great location price view hotel great quick pl...</td>\n",
       "      <td>Pos</td>\n",
       "    </tr>\n",
       "    <tr>\n",
       "      <th>20488</th>\n",
       "      <td>ok just looks nice modern outside, desk staff ...</td>\n",
       "      <td>Neg</td>\n",
       "      <td>ok look nice modern outside desk staff nt part...</td>\n",
       "      <td>Neg</td>\n",
       "    </tr>\n",
       "    <tr>\n",
       "      <th>20489</th>\n",
       "      <td>hotel theft ruined vacation hotel opened sept ...</td>\n",
       "      <td>Neg</td>\n",
       "      <td>hotel theft ruined vacation hotel opened sept ...</td>\n",
       "      <td>Neg</td>\n",
       "    </tr>\n",
       "    <tr>\n",
       "      <th>20490</th>\n",
       "      <td>people talking, ca n't believe excellent ratin...</td>\n",
       "      <td>Neg</td>\n",
       "      <td>people talking ca nt believe excellent rating ...</td>\n",
       "      <td>Neg</td>\n",
       "    </tr>\n",
       "  </tbody>\n",
       "</table>\n",
       "<p>20491 rows × 4 columns</p>\n",
       "</div>"
      ],
      "text/plain": [
       "                                                  Review Feedback  \\\n",
       "0      nice hotel expensive parking got good deal sta...      Pos   \n",
       "1      ok nothing special charge diamond member hilto...      Neg   \n",
       "2      nice rooms not 4* experience hotel monaco seat...      Pos   \n",
       "3      unique, great stay, wonderful time hotel monac...      Pos   \n",
       "4      great stay great stay, went seahawk game aweso...      Pos   \n",
       "...                                                  ...      ...   \n",
       "20486  best kept secret 3rd time staying charm, not 5...      Pos   \n",
       "20487  great location price view hotel great quick pl...      Pos   \n",
       "20488  ok just looks nice modern outside, desk staff ...      Neg   \n",
       "20489  hotel theft ruined vacation hotel opened sept ...      Neg   \n",
       "20490  people talking, ca n't believe excellent ratin...      Neg   \n",
       "\n",
       "                                          Cleaned_Review Predicted_Sentiment  \n",
       "0      nice hotel expensive parking got good deal sta...                 Pos  \n",
       "1      ok nothing special charge diamond member hilto...                 Neg  \n",
       "2      nice room experience hotel monaco seattle good...                 Neg  \n",
       "3      unique great stay wonderful time hotel monaco ...                 Pos  \n",
       "4      great stay great stay went seahawk game awesom...                 Neg  \n",
       "...                                                  ...                 ...  \n",
       "20486  best kept secret rd time staying charm star ca...                 Pos  \n",
       "20487  great location price view hotel great quick pl...                 Pos  \n",
       "20488  ok look nice modern outside desk staff nt part...                 Neg  \n",
       "20489  hotel theft ruined vacation hotel opened sept ...                 Neg  \n",
       "20490  people talking ca nt believe excellent rating ...                 Neg  \n",
       "\n",
       "[20491 rows x 4 columns]"
      ]
     },
     "execution_count": 60,
     "metadata": {},
     "output_type": "execute_result"
    }
   ],
   "source": [
    "df"
   ]
  },
  {
   "cell_type": "code",
   "execution_count": 61,
   "id": "4a9f663f",
   "metadata": {},
   "outputs": [
    {
     "name": "stdout",
     "output_type": "stream",
     "text": [
      "Model Accuracy on Entire Dataset: 0.89\n"
     ]
    }
   ],
   "source": [
    "accuracy = (df['Feedback'] == df['Predicted_Sentiment']).mean()\n",
    "print(f\"Model Accuracy on Entire Dataset: {accuracy:.2f}\")\n"
   ]
  },
  {
   "cell_type": "code",
   "execution_count": 62,
   "id": "983212fd",
   "metadata": {},
   "outputs": [
    {
     "name": "stdout",
     "output_type": "stream",
     "text": [
      "Classification Report for Entire Dataset:\n",
      "              precision    recall  f1-score   support\n",
      "\n",
      "         Neg       0.60      0.94      0.74      3214\n",
      "         Pos       0.99      0.88      0.93     17277\n",
      "\n",
      "    accuracy                           0.89     20491\n",
      "   macro avg       0.80      0.91      0.83     20491\n",
      "weighted avg       0.93      0.89      0.90     20491\n",
      "\n"
     ]
    }
   ],
   "source": [
    "print(\"Classification Report for Entire Dataset:\")\n",
    "print(classification_report(df['Feedback'], df['Predicted_Sentiment']))"
   ]
  },
  {
   "cell_type": "code",
   "execution_count": 63,
   "id": "57fc8690",
   "metadata": {},
   "outputs": [
    {
     "name": "stdout",
     "output_type": "stream",
     "text": [
      "Proportion of Correct Predictions: 0.89\n"
     ]
    }
   ],
   "source": [
    "correct_predictions = (df['Feedback'] == df['Predicted_Sentiment']).sum()\n",
    "total_predictions = df.shape[0]\n",
    "print(f\"Proportion of Correct Predictions: {correct_predictions / total_predictions:.2f}\")"
   ]
  },
  {
   "cell_type": "markdown",
   "id": "713bf540",
   "metadata": {},
   "source": [
    "# compare multiple models"
   ]
  },
  {
   "cell_type": "code",
   "execution_count": 73,
   "id": "ad0da4a0",
   "metadata": {},
   "outputs": [],
   "source": [
    "from sklearn.naive_bayes import MultinomialNB\n",
    "from sklearn.linear_model import LogisticRegression\n",
    "from sklearn.svm import SVC\n",
    "from sklearn.ensemble import RandomForestClassifier, GradientBoostingClassifier\n",
    "from sklearn.neighbors import KNeighborsClassifier\n",
    "from sklearn.tree import DecisionTreeClassifier\n",
    "from sklearn.pipeline import Pipeline\n",
    "\n"
   ]
  },
  {
   "cell_type": "code",
   "execution_count": 74,
   "id": "14fa84ec",
   "metadata": {},
   "outputs": [],
   "source": [
    "models = {\n",
    "    \"Naive Bayes\": MultinomialNB(),\n",
    "    \"Logistic Regression\": LogisticRegression(max_iter=1000),\n",
    "    \"Support Vector Classifier\": SVC(),\n",
    "    \"Random Forest\": RandomForestClassifier(),\n",
    "    \"Gradient Boosting\": GradientBoostingClassifier(),\n",
    "    \"K-Nearest Neighbors\": KNeighborsClassifier(),\n",
    "    \"Decision Tree\": DecisionTreeClassifier()\n",
    "}"
   ]
  },
  {
   "cell_type": "code",
   "execution_count": 75,
   "id": "dd699ec1",
   "metadata": {},
   "outputs": [],
   "source": [
    "from sklearn.metrics import classification_report, accuracy_score\n",
    "\n",
    "def evaluate_models(X_train, y_train, X_test, y_test, models):\n",
    "    results = {}\n",
    "    \n",
    "    for model_name, model in models.items():\n",
    "        print(f\"Training {model_name}...\")\n",
    "        \n",
    "        \n",
    "        pipeline = Pipeline([\n",
    "            ('tfidf', TfidfVectorizer()),  # Vectorization step\n",
    "            ('clf', model)  # Model step\n",
    "        ])\n",
    "        \n",
    "        # Train the model\n",
    "        pipeline.fit(X_train, y_train)\n",
    "        \n",
    "        # Make predictions\n",
    "        y_pred = pipeline.predict(X_test)\n",
    "        \n",
    "        # Evaluate model\n",
    "        accuracy = accuracy_score(y_test, y_pred)\n",
    "        report = classification_report(y_test, y_pred, output_dict=True)\n",
    "        \n",
    "        results[model_name] = {\n",
    "            'accuracy': accuracy,\n",
    "            'precision': report['Pos']['precision'],\n",
    "            'recall': report['Pos']['recall'],\n",
    "            'f1-score': report['Pos']['f1-score']\n",
    "        }\n",
    "        \n",
    "        print(f\"{model_name} Evaluation:\")\n",
    "        print(f\"Accuracy: {accuracy:.2f}\")\n",
    "        print(f\"Precision: {report['Pos']['precision']:.2f}\")\n",
    "        print(f\"Recall: {report['Pos']['recall']:.2f}\")\n",
    "        print(f\"F1-Score: {report['Pos']['f1-score']:.2f}\")\n",
    "        print(\"-\" * 40)\n",
    "    \n",
    "    return results\n"
   ]
  },
  {
   "cell_type": "code",
   "execution_count": 76,
   "id": "7e42f276",
   "metadata": {},
   "outputs": [
    {
     "name": "stdout",
     "output_type": "stream",
     "text": [
      "Training Naive Bayes...\n",
      "Naive Bayes Evaluation:\n",
      "Accuracy: 0.88\n",
      "Precision: 0.88\n",
      "Recall: 0.87\n",
      "F1-Score: 0.87\n",
      "----------------------------------------\n",
      "Training Logistic Regression...\n",
      "Logistic Regression Evaluation:\n",
      "Accuracy: 0.90\n",
      "Precision: 0.89\n",
      "Recall: 0.91\n",
      "F1-Score: 0.90\n",
      "----------------------------------------\n",
      "Training Support Vector Classifier...\n",
      "Support Vector Classifier Evaluation:\n",
      "Accuracy: 0.90\n",
      "Precision: 0.90\n",
      "Recall: 0.91\n",
      "F1-Score: 0.90\n",
      "----------------------------------------\n",
      "Training Random Forest...\n",
      "Random Forest Evaluation:\n",
      "Accuracy: 0.87\n",
      "Precision: 0.86\n",
      "Recall: 0.87\n",
      "F1-Score: 0.87\n",
      "----------------------------------------\n",
      "Training Gradient Boosting...\n",
      "Gradient Boosting Evaluation:\n",
      "Accuracy: 0.85\n",
      "Precision: 0.85\n",
      "Recall: 0.85\n",
      "F1-Score: 0.85\n",
      "----------------------------------------\n",
      "Training K-Nearest Neighbors...\n",
      "K-Nearest Neighbors Evaluation:\n",
      "Accuracy: 0.76\n",
      "Precision: 0.72\n",
      "Recall: 0.87\n",
      "F1-Score: 0.78\n",
      "----------------------------------------\n",
      "Training Decision Tree...\n",
      "Decision Tree Evaluation:\n",
      "Accuracy: 0.76\n",
      "Precision: 0.75\n",
      "Recall: 0.78\n",
      "F1-Score: 0.76\n",
      "----------------------------------------\n",
      "                           accuracy  precision    recall  f1-score\n",
      "Naive Bayes                0.875583   0.882726  0.866252  0.874411\n",
      "Logistic Regression        0.899689   0.891768  0.909798  0.900693\n",
      "Support Vector Classifier  0.904355   0.903727  0.905132  0.904429\n",
      "Random Forest              0.865474   0.861538  0.870918  0.866203\n",
      "Gradient Boosting          0.847589   0.845440  0.850700  0.848062\n",
      "K-Nearest Neighbors        0.761275   0.715938  0.866252  0.783955\n",
      "Decision Tree              0.758942   0.750376  0.776050  0.762997\n"
     ]
    }
   ],
   "source": [
    "# Evaluate all models\n",
    "results = evaluate_models(X_train, y_train, X_test, y_test, models)\n",
    "\n",
    "\n",
    "results_df = pd.DataFrame(results).T\n",
    "print(results_df)\n"
   ]
  },
  {
   "cell_type": "code",
   "execution_count": null,
   "id": "d8cae2e2",
   "metadata": {},
   "outputs": [],
   "source": []
  }
 ],
 "metadata": {
  "kernelspec": {
   "display_name": "Python 3 (ipykernel)",
   "language": "python",
   "name": "python3"
  },
  "language_info": {
   "codemirror_mode": {
    "name": "ipython",
    "version": 3
   },
   "file_extension": ".py",
   "mimetype": "text/x-python",
   "name": "python",
   "nbconvert_exporter": "python",
   "pygments_lexer": "ipython3",
   "version": "3.11.5"
  }
 },
 "nbformat": 4,
 "nbformat_minor": 5
}
